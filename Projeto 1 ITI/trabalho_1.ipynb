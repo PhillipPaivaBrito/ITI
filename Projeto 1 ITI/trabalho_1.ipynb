{
 "cells": [
  {
   "attachments": {},
   "cell_type": "markdown",
   "metadata": {},
   "source": [
    "## Phillip Paiva Brito - 20160143171\n",
    "## Jorge Luiz Pereira da Silva Filho - 20180090431\n",
    "## Thomas Vitor P.  Monteiro - 20200014649"
   ]
  },
  {
   "cell_type": "code",
   "execution_count": 2,
   "metadata": {},
   "outputs": [],
   "source": [
    "def adicionar_nova_sequencia_ao_dicionario(dicionario, nova_sequencia):\n",
    "    proximo_codigo = len(dicionario)\n",
    "    dicionario[nova_sequencia] = proximo_codigo"
   ]
  },
  {
   "cell_type": "code",
   "execution_count": 3,
   "metadata": {},
   "outputs": [],
   "source": [
    "def criar_dicionario_inicial():\n",
    "    dicionario = {}\n",
    "    for i in range(256):\n",
    "        dicionario[(i.to_bytes(1,byteorder='big',signed=False))] = i\n",
    "    return dicionario"
   ]
  },
  {
   "cell_type": "code",
   "execution_count": 4,
   "metadata": {},
   "outputs": [],
   "source": [
    "def writeInstance(filePath,saida):\n",
    "    file = open(filePath,\"wb\")\n",
    "    \n",
    "    for i in saida:\n",
    "        file.write(i.to_bytes(2,byteorder='big'))\n",
    "\n",
    "    file.close()"
   ]
  },
  {
   "cell_type": "code",
   "execution_count": 5,
   "metadata": {},
   "outputs": [],
   "source": [
    "def writeInstanceD(filePath,saida,tamanhomaximo):\n",
    "    file = open(filePath,\"wb\")\n",
    "    \n",
    "    for i in saida:\n",
    "        file.write(i)\n",
    "\n",
    "    file.close()"
   ]
  },
  {
   "cell_type": "code",
   "execution_count": 6,
   "metadata": {},
   "outputs": [],
   "source": [
    "def compressao_LZW(nome_arquivo, output, tamanho_maximo):\n",
    "    dicionario = criar_dicionario_inicial()\n",
    "    tam_max_dic = 2 ** tamanho_maximo\n",
    "    buffer = b''\n",
    "    codigos = []\n",
    "\n",
    "    with open(nome_arquivo, 'rb') as arquivo:\n",
    "        while True:\n",
    "            byte = arquivo.read(1)\n",
    "\n",
    "            if not byte:\n",
    "                break\n",
    "            \n",
    "            nova_sequencia = buffer + byte\n",
    "\n",
    "            if nova_sequencia in dicionario:\n",
    "                buffer = nova_sequencia\n",
    "            else:\n",
    "                if(len(dicionario) < tam_max_dic): # verifica tamanho maximo do dicionario\n",
    "                    adicionar_nova_sequencia_ao_dicionario(dicionario, nova_sequencia)\n",
    "                codigos.append(dicionario[buffer])\n",
    "                buffer = byte\n",
    "\n",
    "    if buffer:\n",
    "        codigos.append(dicionario[buffer])\n",
    "    \n",
    "    writeInstance(output, codigos)\n",
    "    return"
   ]
  },
  {
   "cell_type": "code",
   "execution_count": 7,
   "metadata": {},
   "outputs": [],
   "source": [
    "def descompressao_LZW(filepath, output , tamanho_maximo):\n",
    "    dicionario = criar_dicionario_inicial()\n",
    "    tam_max_dic = 2 ** tamanho_maximo\n",
    "    codigos = []\n",
    "    buffer = b''\n",
    "    \n",
    "    with open(filepath, 'rb') as arquivo:\n",
    "        while True:\n",
    "            byte = arquivo.read(2)\n",
    "            if not byte:\n",
    "                break\n",
    "\n",
    "            aux = int.from_bytes(byte,'big')\n",
    "            try:\n",
    "                codigo = list(dicionario.keys())[list(dicionario.values()).index(aux)] # retorna a chave correspondente ao indice\n",
    "            except: # indice não encontrado no dicionario\n",
    "                codigo = buffer + buffer[:1]\n",
    "\n",
    "            nova_sequencia = buffer + codigo\n",
    "\n",
    "            if nova_sequencia in dicionario:\n",
    "                buffer = nova_sequencia\n",
    "            else:\n",
    "                nova_sequencia = buffer + codigo[:1] # nova sequencia concatena as sequncias anteriores com a primeira letra do codigo\n",
    "                if(len(dicionario) < tam_max_dic):\n",
    "                    adicionar_nova_sequencia_ao_dicionario(dicionario, nova_sequencia) # adiciona sequencia ao dicionario\n",
    "            buffer = codigo\n",
    "            codigos.append(codigo)\n",
    "    writeInstanceD(output, codigos, 1)\n",
    "    \n",
    "    \n",
    "    return"
   ]
  },
  {
   "cell_type": "code",
   "execution_count": 8,
   "metadata": {},
   "outputs": [],
   "source": [
    "compressao_LZW(\"teste.txt\",\"testecomp.bin\",16)"
   ]
  },
  {
   "cell_type": "code",
   "execution_count": 9,
   "metadata": {},
   "outputs": [],
   "source": [
    "descompressao_LZW(\"testecomp.bin\", \"testeDesc.txt\",16)"
   ]
  },
  {
   "cell_type": "code",
   "execution_count": 10,
   "metadata": {},
   "outputs": [],
   "source": [
    "compressao_LZW(\"corpus16MB.txt\", \"compCorpus16MB_16.bin\", 16)"
   ]
  },
  {
   "cell_type": "code",
   "execution_count": 11,
   "metadata": {},
   "outputs": [],
   "source": [
    "descompressao_LZW(\"compCorpus16MB_16.bin\", \"descompCorpus16MB_16.txt\",16)"
   ]
  }
 ],
 "metadata": {
  "kernelspec": {
   "display_name": "base",
   "language": "python",
   "name": "python3"
  },
  "language_info": {
   "codemirror_mode": {
    "name": "ipython",
    "version": 3
   },
   "file_extension": ".py",
   "mimetype": "text/x-python",
   "name": "python",
   "nbconvert_exporter": "python",
   "pygments_lexer": "ipython3",
   "version": "3.9.7"
  },
  "orig_nbformat": 4
 },
 "nbformat": 4,
 "nbformat_minor": 2
}
